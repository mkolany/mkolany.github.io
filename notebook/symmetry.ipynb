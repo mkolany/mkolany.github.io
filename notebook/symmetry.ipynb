{
 "cells": [
  {
   "cell_type": "markdown",
   "source": [
    "<!-- <img style=\"display: block; width: 35vw; height: 30vw; object-fit: cover; object-position: 20px 50px;\" src=\"https://upload.wikimedia.org/wikipedia/commons/thumb/6/69/Studio_del_Corpo_Umano_-_Leonardo_da_Vinci.png/270px-Studio_del_Corpo_Umano_-_Leonardo_da_Vinci.png\"> -->\r\n",
    "<img style=\"display: block; width: 100vw; height: 350px; object-fit: cover; object-position: center 20%;\" src=\"https://upload.wikimedia.org/wikipedia/commons/6/69/Studio_del_Corpo_Umano_-_Leonardo_da_Vinci.png\">"
   ],
   "metadata": {}
  },
  {
   "cell_type": "markdown",
   "source": [
    "# Symetrie w matematyce $-$ i nie tylko\r\n",
    "### W języku potocznym słów *symetria* (gr. *συμμετρια*) i *symetryczny* używa się w odniesieniu do obiektów, w których dostrzegamy dwie takie części, że każda z nich może powstać z drugiej (np. poprzez lustrzane odbicie). Antyczni filofowie często utożsamiali piękno i harmonię z symetrią, z kolei artyści, architekci i nawet muzycy dość często dbali o to, by w ich dziełach zawrzeć jakąś formę symetrii.|\r\n",
    "\r\n",
    "$$ \\frac{2}3 $$"
   ],
   "metadata": {}
  },
  {
   "cell_type": "markdown",
   "source": [
    "\r\n",
    "### Przykłady\r\n",
    "<center>\r\n",
    "<img style=\"width: 30vw; height: 350px; object-fit: cover; object-position: center 70%;\" src=\"\r\n",
    "https://upload.wikimedia.org/wikipedia/commons/thumb/4/42/Great_Mosque_of_Kairouan%2C_west_portico_of_the_courtyard.jpg/509px-Great_Mosque_of_Kairouan%2C_west_portico_of_the_courtyard.jpg\r\n",
    "\">\r\n",
    "<img style=\"width: 30vw; height: 350px; object-fit: cover; object-position: center;\" src=\"https://upload.wikimedia.org/wikipedia/commons/thumb/1/19/Taj_Mahal%2C_Agra_views_from_around_%2885%29.JPG/330px-Taj_Mahal%2C_Agra_views_from_around_%2885%29.JPG\">\r\n",
    "<img style=\"width: 30vw; height: 350px; object-fit: cover; object-position: center;\" src=\"https://upload.wikimedia.org/wikipedia/commons/thumb/6/65/Isfahan_Lotfollah_mosque_ceiling_symmetric.jpg/330px-Isfahan_Lotfollah_mosque_ceiling_symmetric.jpg\">\r\n",
    "<img style=\"width: 30vw; height: 350px; object-fit: cover; object-position: center;\" src=\"http://www.mi.sanu.ac.rs/vismath/visbook/apagyi/Image1214.jpg\">\r\n",
    "\r\n",
    "<img style=\"width: 30vw; height: 350px; object-fit: cover; object-position: center;\" src=\"https://external-preview.redd.it/sYoGf4Iq5zk056DW5aNad_stHoCwjmTsrjiz3Ca-HOI.jpg?auto=webp&s=79cd9faa8711d9fd5e051796494e4c618f0e983b\">\r\n",
    "\r\n",
    "<iframe width=\"560\" height=\"350\" src=\"https://www.youtube.com/embed/AUKjEcWiQzY?controls=0\" title=\"YouTube video player\" frameborder=\"0\" allow=\"accelerometer; autoplay; clipboard-write; encrypted-media; gyroscope; picture-in-picture\" allowfullscreen>\r\n",
    "</iframe>\r\n",
    "</center>"
   ],
   "metadata": {}
  },
  {
   "cell_type": "markdown",
   "source": [
    "\r\n"
   ],
   "metadata": {}
  },
  {
   "cell_type": "code",
   "execution_count": 5,
   "source": [
    "from ipycanvas import Canvas\r\n",
    "from IPython import display\r\n",
    "from PIL import Image\r\n",
    "import numpy as np\r\n",
    "import matplotlib.pyplot as plt\r\n",
    "import matplotlib.patches as patches\r\n",
    "img = Image.new(mode=\"RGBA\", size=(800,600))\r\n",
    "x = np.array(img)\r\n"
   ],
   "outputs": [],
   "metadata": {}
  },
  {
   "cell_type": "code",
   "execution_count": 45,
   "source": [
    "from math import pi\r\n",
    "import ipywidgets as widgets\r\n",
    "from ipycanvas import Canvas, hold_canvas\r\n",
    "import numpy as np\r\n",
    "\r\n",
    "def polygon(c, x, y, radius, n_points):\r\n",
    "    angles = (2 * pi / n_points) * np.arange(n_points)\r\n",
    "\r\n",
    "    v_x = x + np.cos(angles) * radius\r\n",
    "    v_y = y + np.sin(angles) * radius\r\n",
    "\r\n",
    "    points = np.stack((v_x, v_y), axis=1)\r\n",
    "\r\n",
    "    # c.fill_polygon(points)\r\n",
    "    c.stroke_polygon(points)\r\n",
    "\r\n",
    "c = Canvas(width=500, height=500)\r\n",
    "out = widgets.Output()\r\n",
    "def get_array(*args, **kwargs):\r\n",
    "    print('ik')\r\n",
    "    arr = c.get_image_data()\r\n",
    "    with out:\r\n",
    "        display(arr)\r\n",
    "c.observe(get_array, 'image_data')\r\n",
    "\r\n",
    "\r\n",
    "c.fill_style = '#fff'\r\n",
    "c.stroke_style = '#000'\r\n",
    "c.line_width = 0.2\r\n",
    "c\r\n"
   ],
   "outputs": [
    {
     "output_type": "display_data",
     "data": {
      "application/vnd.jupyter.widget-view+json": {
       "version_major": 2,
       "version_minor": 0,
       "model_id": "d50f542c9ad2434db7b855baf6903bd7"
      },
      "text/plain": [
       "Canvas(width=500)"
      ]
     },
     "metadata": {}
    }
   ],
   "metadata": {}
  },
  {
   "cell_type": "code",
   "execution_count": 46,
   "source": [
    "r_ = int(c.width/2)\r\n",
    "for _ in range(3, 4*r_,):\r\n",
    "   \r\n",
    "    with hold_canvas(c):\r\n",
    "        polygon(c, r_, r_, r_-_/4, _)\r\n",
    "\r\n",
    "\r\n"
   ],
   "outputs": [],
   "metadata": {}
  },
  {
   "cell_type": "code",
   "execution_count": null,
   "source": [],
   "outputs": [],
   "metadata": {}
  }
 ],
 "metadata": {
  "language_info": {
   "name": "python",
   "version": "3.9.7",
   "mimetype": "text/x-python",
   "codemirror_mode": {
    "name": "ipython",
    "version": 3
   },
   "pygments_lexer": "ipython3",
   "nbconvert_exporter": "python",
   "file_extension": ".py"
  },
  "kernelspec": {
   "name": "python3",
   "display_name": "Python 3.9.7 64-bit"
  },
  "interpreter": {
   "hash": "bd4c67ef142469da7dc4d338a32ac40116904d26076b8e6aa587d80720bc6a2b"
  }
 },
 "nbformat": 4,
 "nbformat_minor": 5
}