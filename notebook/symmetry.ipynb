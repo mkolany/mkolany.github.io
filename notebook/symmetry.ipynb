{
 "cells": [
  {
   "cell_type": "markdown",
   "source": [
    "<!-- <img style=\"display: block; width: 35vw; height: 30vw; object-fit: cover; object-position: 20px 50px;\" src=\"https://upload.wikimedia.org/wikipedia/commons/thumb/6/69/Studio_del_Corpo_Umano_-_Leonardo_da_Vinci.png/270px-Studio_del_Corpo_Umano_-_Leonardo_da_Vinci.png\"> -->\r\n",
    "<img style=\"display: block; width: 100vw; height: 350px; object-fit: cover; object-position: center 20%;\" src=\"https://upload.wikimedia.org/wikipedia/commons/6/69/Studio_del_Corpo_Umano_-_Leonardo_da_Vinci.png\">"
   ],
   "metadata": {}
  },
  {
   "cell_type": "markdown",
   "source": [
    "# Symetrie w matematyce $-$ i nie tylko\r\n",
    "### W języku potocznym słów *symetria* (gr. *συμμετρια*) i *symetryczny* używa się w odniesieniu do obiektów, w których dostrzegamy dwie takie części, że każda z nich może powstać z drugiej (np. poprzez lustrzane odbicie). Antyczni filofowie często utożsamiali piękno i harmonię z symetrią, z kolei artyści, architekci i nawet muzycy dość często dbali o to, by w ich dziełach zawrzeć jakąś formę symetrii.|"
   ],
   "metadata": {}
  },
  {
   "cell_type": "markdown",
   "source": [
    "\r\n",
    "### Przykłady\r\n",
    "<center>\r\n",
    "<img style=\"width: 30vw; height: 350px; object-fit: cover; object-position: center 70%;\" src=\"\r\n",
    "https://upload.wikimedia.org/wikipedia/commons/thumb/4/42/Great_Mosque_of_Kairouan%2C_west_portico_of_the_courtyard.jpg/509px-Great_Mosque_of_Kairouan%2C_west_portico_of_the_courtyard.jpg\r\n",
    "\">\r\n",
    "<img style=\"width: 30vw; height: 350px; object-fit: cover; object-position: center;\" src=\"https://upload.wikimedia.org/wikipedia/commons/thumb/1/19/Taj_Mahal%2C_Agra_views_from_around_%2885%29.JPG/330px-Taj_Mahal%2C_Agra_views_from_around_%2885%29.JPG\">\r\n",
    "<img style=\"width: 30vw; height: 350px; object-fit: cover; object-position: center;\" src=\"https://upload.wikimedia.org/wikipedia/commons/thumb/6/65/Isfahan_Lotfollah_mosque_ceiling_symmetric.jpg/330px-Isfahan_Lotfollah_mosque_ceiling_symmetric.jpg\">\r\n",
    "<img style=\"width: 30vw; height: 350px; object-fit: cover; object-position: center;\" src=\"http://www.mi.sanu.ac.rs/vismath/visbook/apagyi/Image1214.jpg\">\r\n",
    "\r\n",
    "<img style=\"width: 30vw; height: 350px; object-fit: cover; object-position: center;\" src=\"https://external-preview.redd.it/sYoGf4Iq5zk056DW5aNad_stHoCwjmTsrjiz3Ca-HOI.jpg?auto=webp&s=79cd9faa8711d9fd5e051796494e4c618f0e983b\">\r\n",
    "</center>"
   ],
   "metadata": {}
  },
  {
   "cell_type": "markdown",
   "source": [
    "<iframe width=\"560\" height=\"315\" src=\"https://www.youtube.com/embed/AUKjEcWiQzY?controls=0\" title=\"YouTube video player\" frameborder=\"0\" allow=\"accelerometer; autoplay; clipboard-write; encrypted-media; gyroscope; picture-in-picture\" allowfullscreen>\r\n",
    "</iframe>\r\n",
    "\r\n"
   ],
   "metadata": {}
  },
  {
   "cell_type": "markdown",
   "source": [
    "![alt text](https://upload.wikimedia.org/wikipedia/commons/thumb/4/42/Great_Mosque_of_Kairouan%2C_west_portico_of_the_courtyard.jpg/509px-Great_Mosque_of_Kairouan%2C_west_portico_of_the_courtyard.jpg \"Title\")\r\n"
   ],
   "metadata": {}
  },
  {
   "cell_type": "code",
   "execution_count": null,
   "source": [],
   "outputs": [],
   "metadata": {}
  }
 ],
 "metadata": {
  "language_info": {
   "name": "python",
   "version": "3.9.7",
   "mimetype": "text/x-python",
   "codemirror_mode": {
    "name": "ipython",
    "version": 3
   },
   "pygments_lexer": "ipython3",
   "nbconvert_exporter": "python",
   "file_extension": ".py"
  },
  "kernelspec": {
   "name": "python3",
   "display_name": "Python 3.9.7 64-bit"
  },
  "interpreter": {
   "hash": "bd4c67ef142469da7dc4d338a32ac40116904d26076b8e6aa587d80720bc6a2b"
  }
 },
 "nbformat": 4,
 "nbformat_minor": 5
}