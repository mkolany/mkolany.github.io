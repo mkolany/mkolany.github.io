{
 "cells": [
  {
   "cell_type": "code",
   "execution_count": 35,
   "source": [
    "nbpath = globals()['_dh'][0] \r\n"
   ],
   "outputs": [
    {
     "output_type": "stream",
     "name": "stdout",
     "text": [
      "d:\\Programming\\mkolany.github.io\\notebook\n"
     ]
    },
    {
     "output_type": "execute_result",
     "data": {
      "text/plain": [
       "'d:\\\\Programming\\\\mkolany.github.io\\\\notebook'"
      ]
     },
     "metadata": {},
     "execution_count": 35
    }
   ],
   "metadata": {}
  },
  {
   "cell_type": "code",
   "execution_count": 38,
   "source": [
    "import urllib.request as urllib2\r\n",
    "import os\r\n",
    "\r\n",
    "\r\n",
    "  \r\n",
    "def fetchImage(url, nbname, basepath= os. getcwd() ):\r\n",
    "    path = os.path.join(basepath,nbname,'images')\r\n",
    "    print(path)\r\n",
    "\r\n",
    "    if not(os.path.exists(path)):\r\n",
    "        os.makedirs(path)\r\n",
    "        print(\"{} created \".format( path ))\r\n",
    "    try:\r\n",
    "        urllib2.urlretrieve(url, path)\r\n",
    "    except Exception as e:\r\n",
    "        print(e)\r\n"
   ],
   "outputs": [],
   "metadata": {}
  },
  {
   "cell_type": "code",
   "execution_count": 39,
   "source": [
    "url = 'https://upload.wikimedia.org/wikipedia/commons/thumb/4/42/Great_Mosque_of_Kairouan%2C_west_portico_of_the_courtyard.jpg/509px-Great_Mosque_of_Kairouan%2C_west_portico_of_the_courtyard.jpg'\r\n",
    "nb = 'symmetry'\r\n",
    "\r\n",
    "fetchImage(url, nb)"
   ],
   "outputs": [
    {
     "output_type": "stream",
     "name": "stdout",
     "text": [
      "d:\\Programming\\mkolany.github.io\\notebook\\symmetry\\images\n",
      "[Errno 13] Permission denied: 'd:\\\\Programming\\\\mkolany.github.io\\\\notebook\\\\symmetry\\\\images'\n"
     ]
    }
   ],
   "metadata": {}
  },
  {
   "cell_type": "code",
   "execution_count": null,
   "source": [
    "import os\r\n",
    "os.system('jupyter nbconvert --to html symmetry.ipynb')"
   ],
   "outputs": [],
   "metadata": {}
  }
 ],
 "metadata": {
  "language_info": {
   "name": "python",
   "version": "3.9.7",
   "mimetype": "text/x-python",
   "codemirror_mode": {
    "name": "ipython",
    "version": 3
   },
   "pygments_lexer": "ipython3",
   "nbconvert_exporter": "python",
   "file_extension": ".py"
  },
  "kernelspec": {
   "name": "python3",
   "display_name": "Python 3.9.7 64-bit"
  },
  "interpreter": {
   "hash": "bd4c67ef142469da7dc4d338a32ac40116904d26076b8e6aa587d80720bc6a2b"
  }
 },
 "nbformat": 4,
 "nbformat_minor": 5
}