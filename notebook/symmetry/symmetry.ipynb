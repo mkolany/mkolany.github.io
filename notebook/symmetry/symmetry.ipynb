{
 "cells": [
  {
   "cell_type": "markdown",
   "source": [],
   "metadata": {}
  },
  {
   "cell_type": "markdown",
   "source": [
    "<!-- <img style=\"display: block; width: 35vw; height: 30vw; object-fit: cover; object-position: 20px 50px;\" src=\"https://upload.wikimedia.org/wikipedia/commons/thumb/6/69/Studio_del_Corpo_Umano_-_Leonardo_da_Vinci.png/270px-Studio_del_Corpo_Umano_-_Leonardo_da_Vinci.png\"> -->\r\n",
    "<img style=\"display: block; width: 100vw; height: 350px; object-fit: cover; object-position: center 20%;\" src=\"images/Studio_del_Corpo_Umano_-_Leonardo_da_Vinci.png\">"
   ],
   "metadata": {}
  },
  {
   "cell_type": "markdown",
   "source": [
    "# Symetrie w matematyce $-$ i nie tylko\r\n",
    "### W języku potocznym słów *symetria* (gr. *συμμετρια*) i *symetryczny* używa się w odniesieniu do obiektów, w których dostrzegamy dwie takie części, że każda z nich może powstać z drugiej (np. poprzez lustrzane odbicie). Antyczni filofowie często utożsamiali piękno i harmonię z symetrią, z kolei artyści, architekci i nawet muzycy dość często dbali o to, by w ich dziełach zawrzeć jakąś formę symetrii.|\r\n",
    "\r\n",
    "$$ \\frac{2}3 $$"
   ],
   "metadata": {}
  },
  {
   "cell_type": "markdown",
   "source": [
    "\r\n",
    "### Przykłady\r\n",
    "<img src=\"https://upload.wikimedia.org/wikipedia/commons/thumb/4/42/Great_Mosque_of_Kairouan%2C_west_portico_of_the_courtyard.jpg/509px-Great_Mosque_of_Kairouan%2C_west_portico_of_the_courtyard.jpg\">\r\n",
    "<img  src=\"https://upload.wikimedia.org/wikipedia/commons/thumb/1/19/Taj_Mahal%2C_Agra_views_from_around_%2885%29.JPG/330px-Taj_Mahal%2C_Agra_views_from_around_%2885%29.JPG\">\r\n",
    "<img  src=\"https://upload.wikimedia.org/wikipedia/commons/thumb/6/65/Isfahan_Lotfollah_mosque_ceiling_symmetric.jpg/330px-Isfahan_Lotfollah_mosque_ceiling_symmetric.jpg\">\r\n",
    "<img  src=\"http://www.mi.sanu.ac.rs/vismath/visbook/apagyi/Image1214.jpg\">\r\n",
    "\r\n",
    "<img  src=\"https://external-preview.redd.it/sYoGf4Iq5zk056DW5aNad_stHoCwjmTsrjiz3Ca-HOI.jpg?auto=webp&s=79cd9faa8711d9fd5e051796494e4c618f0e983b\">\r\n"
   ],
   "metadata": {}
  },
  {
   "cell_type": "markdown",
   "source": [
    "\r\n",
    "<iframe width=\"560\" height=\"350\" src=\"https://www.youtube.com/embed/AUKjEcWiQzY?controls=0\" title=\"YouTube video player\" frameborder=\"0\" allow=\"accelerometer; autoplay; clipboard-write; encrypted-media; gyroscope; picture-in-picture\" allowfullscreen>\r\n",
    "</iframe>"
   ],
   "metadata": {}
  },
  {
   "cell_type": "code",
   "execution_count": 7,
   "source": [
    "from math import pi\r\n",
    "import numpy as np\r\n",
    "from numpy import *\r\n",
    "from matplotlib.pyplot import *\r\n",
    "\r\n",
    "def polygon( n_points, x=0, y=0, radius=1):\r\n",
    "    angles = (2 * pi / n_points) * np.arange(n_points)\r\n",
    "\r\n",
    "    v_x = x + np.cos(angles) * radius\r\n",
    "    v_y = y + np.sin(angles) * radius\r\n",
    "    points = np.column_stack((v_x, v_y))\r\n",
    "\r\n",
    "    # print(points)\r\n",
    "    plot(v_x, v_y)\r\n",
    "polygon(10)\r\n",
    "show()"
   ],
   "outputs": [
    {
     "output_type": "display_data",
     "data": {
      "image/png": "[encoded data removed]",
      "text/plain": [
       "<Figure size 432x288 with 1 Axes>"
      ]
     },
     "metadata": {
      "needs_background": "light"
     }
    }
   ],
   "metadata": {}
  },
  {
   "cell_type": "code",
   "execution_count": 8,
   "source": [
    "from numpy import *\r\n",
    "from matplotlib.pyplot import *\r\n",
    "x = ([1,2,2,1,0.5,1]) \r\n",
    "y = ([1,1,2,2,1.5,1])\r\n",
    "plot(x,y)\r\n",
    "show()"
   ],
   "outputs": [
    {
     "output_type": "display_data",
     "data": {
      "image/png": "[encoded data removed]",
      "text/plain": [
       "<Figure size 432x288 with 1 Axes>"
      ]
     },
     "metadata": {
      "needs_background": "light"
     }
    }
   ],
   "metadata": {}
  },
  {
   "cell_type": "code",
   "execution_count": null,
   "source": [
    "\r\n",
    "\r\n"
   ],
   "outputs": [],
   "metadata": {}
  },
  {
   "cell_type": "code",
   "execution_count": null,
   "source": [
    "canvas.get_image_data()"
   ],
   "outputs": [
    {
     "output_type": "error",
     "ename": "RuntimeError",
     "evalue": "No image data, please be sure that ``sync_image_data`` is set to True",
     "traceback": [
      "\u001b[1;31m---------------------------------------------------------------------------\u001b[0m",
      "\u001b[1;31mRuntimeError\u001b[0m                              Traceback (most recent call last)",
      "\u001b[1;32m~\\AppData\\Local\\Temp/ipykernel_7752/3845415295.py\u001b[0m in \u001b[0;36m<module>\u001b[1;34m\u001b[0m\n\u001b[1;32m----> 1\u001b[1;33m \u001b[0mcanvas\u001b[0m\u001b[1;33m.\u001b[0m\u001b[0mget_image_data\u001b[0m\u001b[1;33m(\u001b[0m\u001b[1;33m)\u001b[0m\u001b[1;33m\u001b[0m\u001b[1;33m\u001b[0m\u001b[0m\n\u001b[0m",
      "\u001b[1;32mD:\\Python39\\lib\\site-packages\\ipycanvas\\canvas.py\u001b[0m in \u001b[0;36mget_image_data\u001b[1;34m(self, x, y, width, height)\u001b[0m\n\u001b[0;32m    212\u001b[0m         \"\"\"\n\u001b[0;32m    213\u001b[0m         \u001b[1;32mif\u001b[0m \u001b[0mself\u001b[0m\u001b[1;33m.\u001b[0m\u001b[0mimage_data\u001b[0m \u001b[1;32mis\u001b[0m \u001b[1;32mNone\u001b[0m\u001b[1;33m:\u001b[0m\u001b[1;33m\u001b[0m\u001b[1;33m\u001b[0m\u001b[0m\n\u001b[1;32m--> 214\u001b[1;33m             \u001b[1;32mraise\u001b[0m \u001b[0mRuntimeError\u001b[0m\u001b[1;33m(\u001b[0m\u001b[1;34m'No image data, please be sure that ``sync_image_data`` is set to True'\u001b[0m\u001b[1;33m)\u001b[0m\u001b[1;33m\u001b[0m\u001b[1;33m\u001b[0m\u001b[0m\n\u001b[0m\u001b[0;32m    215\u001b[0m \u001b[1;33m\u001b[0m\u001b[0m\n\u001b[0;32m    216\u001b[0m         \u001b[0mx\u001b[0m \u001b[1;33m=\u001b[0m \u001b[0mint\u001b[0m\u001b[1;33m(\u001b[0m\u001b[0mx\u001b[0m\u001b[1;33m)\u001b[0m\u001b[1;33m\u001b[0m\u001b[1;33m\u001b[0m\u001b[0m\n",
      "\u001b[1;31mRuntimeError\u001b[0m: No image data, please be sure that ``sync_image_data`` is set to True"
     ]
    }
   ],
   "metadata": {}
  },
  {
   "cell_type": "code",
   "execution_count": null,
   "source": [],
   "outputs": [],
   "metadata": {}
  }
 ],
 "metadata": {
  "language_info": {
   "name": "python",
   "version": "3.9.7",
   "mimetype": "text/x-python",
   "codemirror_mode": {
    "name": "ipython",
    "version": 3
   },
   "pygments_lexer": "ipython3",
   "nbconvert_exporter": "python",
   "file_extension": ".py"
  },
  "kernelspec": {
   "name": "python3",
   "display_name": "Python 3.9.7 64-bit"
  },
  "interpreter": {
   "hash": "bd4c67ef142469da7dc4d338a32ac40116904d26076b8e6aa587d80720bc6a2b"
  }
 },
 "nbformat": 4,
 "nbformat_minor": 5
}