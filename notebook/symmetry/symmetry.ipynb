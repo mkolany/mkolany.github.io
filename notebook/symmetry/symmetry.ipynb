{
 "cells": [
  {
   "cell_type": "markdown",
   "source": [
    "<!-- <img style=\"display: block; width: 100vw; height: 350px; object-fit: cover; object-position: center 20%;\" src=\"images/Studio_del_Corpo_Umano_-_Leonardo_da_Vinci.png\">\r\n",
    " -->\r\n",
    "<img width =\"100%\" height= \"350px\" class=\"banner\" src=\"images/Studio_del_Corpo_Umano_-_Leonardo_da_Vinci.png\">"
   ],
   "metadata": {}
  },
  {
   "cell_type": "markdown",
   "source": [
    "# Symetrie w matematyce $-$ i nie tylko\r\n",
    "### W języku potocznym słów *symetria* (gr. *συμμετρια*) i *symetryczny* używa się w odniesieniu do obiektów, w których dostrzegamy dwie takie części, że każda z nich może powstać z drugiej (np. poprzez lustrzane odbicie). Antyczni filofowie często utożsamiali piękno i harmonię z symetrią, z kolei artyści, architekci i nawet muzycy dość często dbali o to, by w ich dziełach zawrzeć jakąś formę symetrii.|\r\n"
   ],
   "metadata": {}
  },
  {
   "cell_type": "markdown",
   "source": [
    "\r\n",
    "### Przykłady\r\n",
    "<img src=\"https://upload.wikimedia.org/wikipedia/commons/thumb/1/19/Taj_Mahal%2C_Agra_views_from_around_%2885%29.JPG/800px-Taj_Mahal%2C_Agra_views_from_around_%2885%29.JPG\">\r\n",
    "<img width=\"350px\" src=\"https://upload.wikimedia.org/wikipedia/commons/thumb/6/65/Isfahan_Lotfollah_mosque_ceiling_symmetric.jpg/330px-Isfahan_Lotfollah_mosque_ceiling_symmetric.jpg\">\r\n",
    "<img width=\"350px\" src=\"http://www.mi.sanu.ac.rs/vismath/visbook/apagyi/Image1214.jpg\">\r\n",
    "\r\n",
    "<img width=\"350px\" src=\"https://external-preview.redd.it/sYoGf4Iq5zk056DW5aNad_stHoCwjmTsrjiz3Ca-HOI.jpg?auto=webp&s=79cd9faa8711d9fd5e051796494e4c618f0e983b\">\r\n"
   ],
   "metadata": {}
  },
  {
   "cell_type": "code",
   "execution_count": null,
   "source": [],
   "outputs": [],
   "metadata": {}
  }
 ],
 "metadata": {
  "language_info": {
   "name": "python",
   "version": "3.9.7",
   "mimetype": "text/x-python",
   "codemirror_mode": {
    "name": "ipython",
    "version": 3
   },
   "pygments_lexer": "ipython3",
   "nbconvert_exporter": "python",
   "file_extension": ".py"
  },
  "kernelspec": {
   "name": "python3",
   "display_name": "Python 3.9.7 64-bit"
  },
  "interpreter": {
   "hash": "bd4c67ef142469da7dc4d338a32ac40116904d26076b8e6aa587d80720bc6a2b"
  }
 },
 "nbformat": 4,
 "nbformat_minor": 5
}